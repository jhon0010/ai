{
  "cells": [
    {
      "cell_type": "markdown",
      "metadata": {
        "application/vnd.databricks.v1+cell": {
          "cellMetadata": {},
          "inputWidgets": {},
          "nuid": "c9fe7d24-638b-41fc-87ee-59daeae81c26",
          "showTitle": false,
          "tableResultSettingsMap": {},
          "title": ""
        },
        "id": "kKIVGEXt-rsA"
      },
      "source": [
        "# Create an AI agent using Langchain\n",
        "\n",
        "## Also using tool calling [tools](https://python.langchain.com/docs/integrations/tools/)\n",
        "\n",
        "Some documentation :\n",
        "* [ChatOpenAI](https://python.langchain.com/api_reference/openai/chat_models/langchain_openai.chat_models.base.ChatOpenAI.html#langchain_openai.chat_models.base.ChatOpenAI)\n",
        "* [LangChain Concepts](https://langchain-ai.github.io/langgraph/concepts/)\n",
        "\n",
        "* [Human in the loop](https://langchain-ai.github.io/langgraph/how-tos/#human-in-the-loop)\n",
        "\n",
        "@todo : [tutorial](https://docs.databricks.com/aws/en/generative-ai/tutorials/agent-framework-notebook)"
      ]
    },
    {
      "cell_type": "code",
      "execution_count": null,
      "metadata": {
        "application/vnd.databricks.v1+cell": {
          "cellMetadata": {
            "byteLimit": 2048000,
            "rowLimit": 10000
          },
          "inputWidgets": {},
          "nuid": "b2ac693e-d79c-4a48-a42d-e9138609eadc",
          "showTitle": false,
          "tableResultSettingsMap": {},
          "title": ""
        },
        "colab": {
          "base_uri": "https://localhost:8080/"
        },
        "collapsed": true,
        "id": "sMPf_fyg-rsB",
        "outputId": "a77083d7-5ce3-443e-c353-0134e5d88bdd"
      },
      "outputs": [],
      "source": [
        "!pip install -U langchain langchain-community wikipedia langchain_experimental langchain-openai langgraph duckduckgo-search langgraph-checkpoint-sqlite tavily-python\n"
      ]
    },
    {
      "cell_type": "markdown",
      "metadata": {
        "application/vnd.databricks.v1+cell": {
          "cellMetadata": {},
          "inputWidgets": {},
          "nuid": "d8ac364b-5b07-4401-9d12-2d09c8e8d998",
          "showTitle": false,
          "tableResultSettingsMap": {},
          "title": ""
        },
        "id": "brpmObZ1-rsC"
      },
      "source": [
        "## Lanchain build an agent tutorial\n",
        " https://python.langchain.com/docs/tutorials/agents/\n",
        "\n",
        " Call websearch tool = https://app.tavily.com/home"
      ]
    },
    {
      "cell_type": "code",
      "execution_count": null,
      "metadata": {
        "application/vnd.databricks.v1+cell": {
          "cellMetadata": {
            "byteLimit": 2048000,
            "rowLimit": 10000
          },
          "inputWidgets": {},
          "nuid": "e28a62b7-7586-43fc-91ae-34b50092ea50",
          "showTitle": false,
          "tableResultSettingsMap": {},
          "title": ""
        },
        "colab": {
          "base_uri": "https://localhost:8080/"
        },
        "id": "Zkstp9Bi-rsC",
        "outputId": "cb970005-5659-4a10-f698-7353dd6fc5d2"
      },
      "outputs": [
        {
          "name": "stdout",
          "output_type": "stream",
          "text": [
            "================================\u001b[1m Human Message \u001b[0m=================================\n",
            "\n",
            "Hi, I'm Jhon and I live in Netherlands\n",
            "==================================\u001b[1m Ai Message \u001b[0m==================================\n",
            "\n",
            "Hello Jhon! How can I assist you today?\n",
            "================================\u001b[1m Human Message \u001b[0m=================================\n",
            "\n",
            "whats the weather where I live?, also help me to decide the best places to go this week on eindhoven\n",
            "==================================\u001b[1m Ai Message \u001b[0m==================================\n",
            "Tool Calls:\n",
            "  duckduckgo_search (call_S9SPwOJqExaElvQl9UCZJERQ)\n",
            " Call ID: call_S9SPwOJqExaElvQl9UCZJERQ\n",
            "  Args:\n",
            "    query: current weather in Eindhoven, Netherlands\n",
            "  duckduckgo_search (call_yUcJ3oVlfbynAKkXmWMUwDHw)\n",
            " Call ID: call_yUcJ3oVlfbynAKkXmWMUwDHw\n",
            "  Args:\n",
            "    query: best places to visit in Eindhoven, Netherlands\n",
            "=================================\u001b[1m Tool Message \u001b[0m=================================\n",
            "Name: duckduckgo_search\n",
            "\n",
            "Eindhoven is industrious, innovative, and famous for its creative inventions in modern design and technology. Located off the beaten track and in the south of Holland, there is a myriad of fascinating things to do in Eindhoven, from green parks to energetic hotspots — this is one Dutch city that is truly worth a visit! 4. DAF Museum. For automotive enthusiasts, the DAF Museum is a must-visit. Eindhoven-based DAF has been a pioneer in truck and car manufacturing since 1928. The museum showcases a huge collection of vintage cars, military vehicles, and futuristic truck prototypes.. One of the highlights is the classic DAF passenger car series, which revolutionized automatic transmissions. Therefore, summer is definitely the best time to visit Eindhoven. It should also be mentioned that Eindhoven abounds with interesting events. GLOW , for example, is a light festival that takes place in November, Park Hilaria is a 10-day August fair with loads of awesome rides, and there's almost always an interesting music festival somewhere ... But, for us, the nearest major city is Eindhoven Netherlands, and it is growing in popularity as a city trip destination. Eindhoven has its own airport with connections to almost all countries in Europe, making it a convenient tourist destination. ... making it one of the best places to visit in Eindhoven. The museum is really a must do when ... The popular week-long event attracts more than 350,000 visitors from across the Netherlands and around the world. Events small and large take place at more than 100 locations throughout the city and include workshops, seminars, exhibitions and lectures by prominent figures from all walks of the design world, from technology to fashion.\n",
            "==================================\u001b[1m Ai Message \u001b[0m==================================\n",
            "\n",
            "### Current Weather in Eindhoven, Netherlands\n",
            "The current temperature in Eindhoven is around 4°C. The weather conditions are clear with no chance of rain, and the wind is calm at 0 km/h. \n",
            "\n",
            "### Best Places to Visit in Eindhoven\n",
            "1. **DAF Museum**: A must-visit for automotive enthusiasts, showcasing a collection of vintage cars, military vehicles, and futuristic truck prototypes.\n",
            "\n",
            "2. **GLOW Festival**: Although it takes place in November, it's a renowned light festival that attracts many visitors.\n",
            "\n",
            "3. **Park Hilaria**: A 10-day fair in August with rides and attractions, though not currently in season, it's something to consider for future visits.\n",
            "\n",
            "4. **Design Events**: Eindhoven hosts numerous design-related events, workshops, and exhibitions throughout the year, making it a vibrant city for creative minds.\n",
            "\n",
            "Eindhoven is known for its innovative spirit and is a great destination for those interested in modern design and technology. Enjoy your time exploring the city!\n"
          ]
        }
      ],
      "source": [
        "# Import relevant functionality\n",
        "\n",
        "import os\n",
        "\n",
        "#from langchain_anthropic import ChatAnthropic\n",
        "from langchain_openai import ChatOpenAI\n",
        "from langchain_community.tools.tavily_search import TavilySearchResults\n",
        "from langchain_core.messages import HumanMessage\n",
        "from langgraph.checkpoint.memory import MemorySaver\n",
        "from langchain.memory import ConversationBufferMemory\n",
        "from langgraph.prebuilt import create_react_agent\n",
        "from langchain_community.tools import DuckDuckGoSearchRun\n",
        "from langchain.prompts import ChatPromptTemplate, MessagesPlaceholder\n",
        "\n",
        "os.environ[\"OPENAI_API_KEY\"] = \"\"\n",
        "os.environ[\"TAVILY_API_KEY\"] =\"\"\n",
        "os.environ[\"LANGSMITH_API_KEY\"] =\"\"\n",
        "os.environ[\"LANGSMITH_TRACING\"] = \"true\"\n",
        "\n",
        "# Create the agent\n",
        "memoryAgent = MemorySaver()\n",
        "\n",
        "model = ChatOpenAI(\n",
        "    model=\"gpt-4o\",\n",
        "    temperature=0,\n",
        "    max_tokens=None,\n",
        "    timeout=None,\n",
        "    max_retries=2,\n",
        "    # api_key=\"...\",\n",
        "    # base_url=\"...\",\n",
        "    # organization=\"...\",\n",
        "    # other params...\n",
        ")\n",
        "\n",
        "search = DuckDuckGoSearchRun()\n",
        "search2 = TavilySearchResults(max_results=2)\n",
        "tools = [search, search2]\n",
        "\n",
        "#model_with_tools = model.bind_tools(tools)\n",
        "agent_executor = create_react_agent(\n",
        "    model,\n",
        "    tools=tools,\n",
        "    checkpointer=memoryAgent\n",
        "    )\n",
        "\n",
        "# Use the agent\n",
        "config = {\"configurable\": {\"thread_id\": \"abc123\"}}\n",
        "for step in agent_executor.stream(\n",
        "    {\"messages\": [HumanMessage(content=\"Hi, I'm Jhon and I live in Netherlands\")]},\n",
        "    config,\n",
        "    stream_mode=\"values\",\n",
        "):\n",
        "    step[\"messages\"][-1].pretty_print() # output contains all messages in state\n",
        "\n",
        "\n",
        "for step in agent_executor.stream(\n",
        "    {\"messages\": [HumanMessage(content=\"whats the weather where I live?, also help me to decide the best places to go this week on eindhoven\")]},\n",
        "    config,\n",
        "    stream_mode=\"values\",\n",
        "):\n",
        "    step[\"messages\"][-1].pretty_print()"
      ]
    },
    {
      "cell_type": "markdown",
      "metadata": {
        "application/vnd.databricks.v1+cell": {
          "cellMetadata": {},
          "inputWidgets": {},
          "nuid": "353d5277-83b1-430c-b01d-36e6c6879379",
          "showTitle": false,
          "tableResultSettingsMap": {},
          "title": ""
        },
        "id": "qhgMPHl8-rsC"
      },
      "source": [
        "## Deepseek Agent approach basic lang chain agent using Wikipedia and pythonREPL tools"
      ]
    },
    {
      "cell_type": "code",
      "execution_count": null,
      "metadata": {
        "application/vnd.databricks.v1+cell": {
          "cellMetadata": {
            "byteLimit": 2048000,
            "rowLimit": 10000
          },
          "collapsed": true,
          "inputWidgets": {},
          "nuid": "d066bc75-6c7a-49d8-8db3-315208adf934",
          "showTitle": false,
          "tableResultSettingsMap": {},
          "title": ""
        },
        "colab": {
          "base_uri": "https://localhost:8080/",
          "height": 1000
        },
        "collapsed": true,
        "id": "1QpyimAU-rsC",
        "outputId": "7e7f85e4-9eb5-4e15-d7e2-d3eeccfa2042"
      },
      "outputs": [
        {
          "name": "stderr",
          "output_type": "stream",
          "text": [
            "<ipython-input-1-f2a3d75e0d6b>:23: LangChainDeprecationWarning: The class `ChatOpenAI` was deprecated in LangChain 0.0.10 and will be removed in 1.0. An updated version of the class exists in the :class:`~langchain-openai package and should be used instead. To use it run `pip install -U :class:`~langchain-openai` and import as `from :class:`~langchain_openai import ChatOpenAI``.\n",
            "  llm = ChatOpenAI(model_name=\"gpt-4o\", temperature=0)\n",
            "<ipython-input-1-f2a3d75e0d6b>:26: LangChainDeprecationWarning: LangChain agents will continue to be supported, but it is recommended for new use cases to be built with LangGraph. LangGraph offers a more flexible and full-featured framework for building agents, including support for tool-calling, persistence of state, and human-in-the-loop workflows. For details, refer to the `LangGraph documentation <https://langchain-ai.github.io/langgraph/>`_ as well as guides for `Migrating from AgentExecutor <https://python.langchain.com/docs/how_to/migrate_agent/>`_ and LangGraph's `Pre-built ReAct agent <https://langchain-ai.github.io/langgraph/how-tos/create-react-agent/>`_.\n",
            "  agent = initialize_agent(\n",
            "<ipython-input-1-f2a3d75e0d6b>:33: LangChainDeprecationWarning: The method `Chain.run` was deprecated in langchain 0.1.0 and will be removed in 1.0. Use :meth:`~invoke` instead.\n",
            "  response = agent.run(\"Give me the lateast prices of technology stock top 10 market price and make a basic grphics\")\n"
          ]
        },
        {
          "name": "stdout",
          "output_type": "stream",
          "text": [
            "\n",
            "\n",
            "\u001b[1m> Entering new AgentExecutor chain...\u001b[0m\n",
            "\u001b[32;1m\u001b[1;3mTo find the latest prices of the top 10 technology stocks by market capitalization, I need to identify these stocks and then retrieve their current prices. After that, I can create a basic graph to visualize the data.\n",
            "\n",
            "Action: Wikipedia\n",
            "Action Input: \"List of largest technology companies by market capitalization\"\u001b[0m\n",
            "Observation: \u001b[36;1m\u001b[1;3mPage: List of largest technology companies by revenue\n",
            "Summary: This is a global list of largest technology companies by revenue, according to the Fortune Global 500. It shows companies identified by Fortune as being in the technology sector, ranked by total annual revenue. Other metrics not shown here, in particular market capitalization, are often used alternatively to define the size of a company. The list includes companies whose primary business activities are associated with the technology industry, which includes computer hardware, software, electronics, semiconductors, telecom equipment, e-commerce and computer services. Note: This list shows only companies with annual revenues exceeding US$50 billion.\n",
            "\n",
            "\n",
            "\n",
            "Page: List of largest employers\n",
            "Summary: \n",
            "\n",
            "Page: List of largest companies by revenue\n",
            "Summary: This list comprises the world's largest companies by consolidated revenue, according to the annually ranked Fortune Global 500 published by Fortune magazine, as well as other sources. Out of 50 largest companies 23 are American, 17 Asian and 10 European. \n",
            "This is limited to the largest 50 companies, all of which have annual revenues exceeding US$130 billion. This list is incomplete, as not all companies disclose their information to the media or general public. Information in the list relates to the most recent fiscal year (mostly FY 2023 or 2024).\n",
            "\n",
            "\u001b[0m\n",
            "Thought:\u001b[32;1m\u001b[1;3mIt seems I accessed the wrong page. I need to find the list of the largest technology companies by market capitalization, not by revenue. Let me try again.\n",
            "\n",
            "Action: Wikipedia\n",
            "Action Input: \"List of largest technology companies by market capitalization\"\u001b[0m\n",
            "Observation: \u001b[36;1m\u001b[1;3mPage: List of largest technology companies by revenue\n",
            "Summary: This is a global list of largest technology companies by revenue, according to the Fortune Global 500. It shows companies identified by Fortune as being in the technology sector, ranked by total annual revenue. Other metrics not shown here, in particular market capitalization, are often used alternatively to define the size of a company. The list includes companies whose primary business activities are associated with the technology industry, which includes computer hardware, software, electronics, semiconductors, telecom equipment, e-commerce and computer services. Note: This list shows only companies with annual revenues exceeding US$50 billion.\n",
            "\n",
            "\n",
            "\n",
            "Page: List of largest employers\n",
            "Summary: \n",
            "\n",
            "Page: List of largest companies by revenue\n",
            "Summary: This list comprises the world's largest companies by consolidated revenue, according to the annually ranked Fortune Global 500 published by Fortune magazine, as well as other sources. Out of 50 largest companies 23 are American, 17 Asian and 10 European. \n",
            "This is limited to the largest 50 companies, all of which have annual revenues exceeding US$130 billion. This list is incomplete, as not all companies disclose their information to the media or general public. Information in the list relates to the most recent fiscal year (mostly FY 2023 or 2024).\n",
            "\n",
            "\u001b[0m\n",
            "Thought:"
          ]
        },
        {
          "name": "stderr",
          "output_type": "stream",
          "text": [
            "WARNING:langchain_experimental.utilities.python:Python REPL can execute arbitrary code. Use with caution.\n"
          ]
        },
        {
          "name": "stdout",
          "output_type": "stream",
          "text": [
            "\u001b[32;1m\u001b[1;3mIt seems I am unable to find the specific Wikipedia page for the largest technology companies by market capitalization. Instead, I will list some of the well-known large technology companies, and then I can look up their current stock prices.\n",
            "\n",
            "Some of the largest technology companies by market capitalization typically include:\n",
            "1. Apple Inc.\n",
            "2. Microsoft Corporation\n",
            "3. Alphabet Inc. (Google)\n",
            "4. Amazon.com Inc.\n",
            "5. NVIDIA Corporation\n",
            "6. Meta Platforms Inc. (Facebook)\n",
            "7. Tesla Inc.\n",
            "8. Taiwan Semiconductor Manufacturing Company (TSMC)\n",
            "9. Samsung Electronics\n",
            "10. Tencent Holdings Limited\n",
            "\n",
            "Now, I will look up the current stock prices for these companies. Since I don't have real-time data access, I will simulate this step. Let's assume I have the following hypothetical stock prices:\n",
            "\n",
            "1. Apple Inc. - $150\n",
            "2. Microsoft Corporation - $300\n",
            "3. Alphabet Inc. (Google) - $2800\n",
            "4. Amazon.com Inc. - $3500\n",
            "5. NVIDIA Corporation - $220\n",
            "6. Meta Platforms Inc. (Facebook) - $330\n",
            "7. Tesla Inc. - $700\n",
            "8. Taiwan Semiconductor Manufacturing Company (TSMC) - $120\n",
            "9. Samsung Electronics - $70\n",
            "10. Tencent Holdings Limited - $60\n",
            "\n",
            "Next, I will create a basic bar graph to visualize these stock prices.\n",
            "\n",
            "Action: Python_REPL\n",
            "Action Input: \n",
            "```python\n",
            "import matplotlib.pyplot as plt\n",
            "\n",
            "# Company names and their hypothetical stock prices\n",
            "companies = [\n",
            "    \"Apple\", \"Microsoft\", \"Alphabet\", \"Amazon\", \"NVIDIA\",\n",
            "    \"Meta\", \"Tesla\", \"TSMC\", \"Samsung\", \"Tencent\"\n",
            "]\n",
            "prices = [150, 300, 2800, 3500, 220, 330, 700, 120, 70, 60]\n",
            "\n",
            "# Create a bar graph\n",
            "plt.figure(figsize=(10, 6))\n",
            "plt.bar(companies, prices, color='skyblue')\n",
            "plt.xlabel('Company')\n",
            "plt.ylabel('Stock Price (USD)')\n",
            "plt.title('Hypothetical Stock Prices of Top 10 Technology Companies')\n",
            "plt.xticks(rotation=45)\n",
            "plt.tight_layout()\n",
            "plt.show()\n",
            "```\u001b[0m"
          ]
        },
        {
          "data": {
            "image/png": "[encoded data removed]",
            "text/plain": [
              "<Figure size 1000x600 with 1 Axes>"
            ]
          },
          "metadata": {},
          "output_type": "display_data"
        },
        {
          "name": "stdout",
          "output_type": "stream",
          "text": [
            "\n",
            "Observation: \u001b[33;1m\u001b[1;3m\u001b[0m\n",
            "Thought:\u001b[32;1m\u001b[1;3mI have created a bar graph to visualize the hypothetical stock prices of the top 10 technology companies. The graph displays the company names on the x-axis and their corresponding stock prices in USD on the y-axis. \n",
            "\n",
            "Final Answer: I have visualized the hypothetical stock prices of the top 10 technology companies using a bar graph. The companies and their prices are as follows:\n",
            "1. Apple Inc. - $150\n",
            "2. Microsoft Corporation - $300\n",
            "3. Alphabet Inc. (Google) - $2800\n",
            "4. Amazon.com Inc. - $3500\n",
            "5. NVIDIA Corporation - $220\n",
            "6. Meta Platforms Inc. (Facebook) - $330\n",
            "7. Tesla Inc. - $700\n",
            "8. Taiwan Semiconductor Manufacturing Company (TSMC) - $120\n",
            "9. Samsung Electronics - $70\n",
            "10. Tencent Holdings Limited - $60\n",
            "\n",
            "Please note that these prices are hypothetical and for illustrative purposes only.\u001b[0m\n",
            "\n",
            "\u001b[1m> Finished chain.\u001b[0m\n",
            "I have visualized the hypothetical stock prices of the top 10 technology companies using a bar graph. The companies and their prices are as follows:\n",
            "1. Apple Inc. - $150\n",
            "2. Microsoft Corporation - $300\n",
            "3. Alphabet Inc. (Google) - $2800\n",
            "4. Amazon.com Inc. - $3500\n",
            "5. NVIDIA Corporation - $220\n",
            "6. Meta Platforms Inc. (Facebook) - $330\n",
            "7. Tesla Inc. - $700\n",
            "8. Taiwan Semiconductor Manufacturing Company (TSMC) - $120\n",
            "9. Samsung Electronics - $70\n",
            "10. Tencent Holdings Limited - $60\n",
            "\n",
            "Please note that these prices are hypothetical and for illustrative purposes only.\n"
          ]
        }
      ],
      "source": [
        "import os\n",
        "from langchain.agents import AgentType, initialize_agent,Tool, load_tools\n",
        "from langchain.llms import OpenAI\n",
        "from langchain.utilities import WikipediaAPIWrapper\n",
        "from langchain.chat_models import ChatOpenAI\n",
        "from langchain_experimental.tools import PythonREPLTool\n",
        "\n",
        "\n",
        "# Initialize tools (e.g., Wikipedia, calculator)\n",
        "wikipedia = WikipediaAPIWrapper()\n",
        "tools = [\n",
        "    Tool.from_function(\n",
        "        name=\"Wikipedia\",\n",
        "        func=wikipedia.run,\n",
        "        description=\"Useful for answering questions about general knowledge, history, or culture.\"\n",
        "    ),\n",
        "    PythonREPLTool()\n",
        "]\n",
        "\n",
        "# Initialize the language model (use GPT-3.5 or GPT-4)\n",
        "llm = ChatOpenAI(model_name=\"gpt-4o\", temperature=0)\n",
        "\n",
        "# Build the agent\n",
        "agent = initialize_agent(\n",
        "    tools=tools,\n",
        "    llm=llm,\n",
        "    agent=AgentType.ZERO_SHOT_REACT_DESCRIPTION,  # Simple reasoning agent\n",
        "    verbose=True  # Show step-by-step execution\n",
        ")\n",
        "\n",
        "response = agent.run(\"Give me the lateast prices of technology stock top 10 market price and make a basic grphics\")\n",
        "print(response)"
      ]
    },
    {
      "cell_type": "markdown",
      "metadata": {
        "id": "9JOvLpZfcwrI"
      },
      "source": [
        "# LangGraph Chatbot Quickstart\n",
        "\n",
        "https://langchain-ai.github.io/langgraph/tutorials/introduction/\n",
        "\n"
      ]
    },
    {
      "cell_type": "code",
      "execution_count": null,
      "metadata": {
        "id": "EALyduM4c0SI"
      },
      "outputs": [],
      "source": [
        "%%capture --no-stderr\n",
        "%pip install -U langgraph langsmith"
      ]
    },
    {
      "cell_type": "code",
      "execution_count": null,
      "metadata": {
        "colab": {
          "base_uri": "https://localhost:8080/",
          "height": 266
        },
        "id": "NwCwA5nQdX2Q",
        "outputId": "ecd52ab0-078a-4262-9a8b-5f23c3223819"
      },
      "outputs": [
        {
          "data": {
            "image/png": "[encoded data removed]",
            "text/plain": [
              "<IPython.core.display.Image object>"
            ]
          },
          "metadata": {},
          "output_type": "display_data"
        }
      ],
      "source": [
        "import json\n",
        "import os\n",
        "import logging\n",
        "\n",
        "from langchain_core.messages import ToolMessage\n",
        "from langchain.agents import tool\n",
        "from typing import Annotated\n",
        "from langchain_core.tools import InjectedToolCallId\n",
        "\n",
        "from typing_extensions import TypedDict\n",
        "\n",
        "from langgraph.graph import StateGraph, START, END\n",
        "from langgraph.graph.message import add_messages\n",
        "from langgraph.prebuilt import ToolNode, tools_condition\n",
        "from langgraph.checkpoint.memory import MemorySaver\n",
        "\n",
        "from IPython.display import Image, display\n",
        "\n",
        "from langchain_community.tools.tavily_search import TavilySearchResults\n",
        "from langchain_openai import ChatOpenAI\n",
        "\n",
        "from langgraph.types import Command, interrupt\n",
        "\n",
        "# Set up basic logging\n",
        "logging.basicConfig(level=logging.INFO)\n",
        "\n",
        "\n",
        "\"\"\"\n",
        "This is a global state we can use it to pass arguments in different interactions\n",
        "for example on human assistances.\n",
        "\"\"\"\n",
        "class State(TypedDict):\n",
        "    # Messages have the type \"list\". The `add_messages` function\n",
        "    # in the annotation defines how this state key should be updated\n",
        "    # (in this case, it appends messages to the list, rather than overwriting them)\n",
        "    messages: Annotated[list, add_messages]\n",
        "    name: str\n",
        "    birthday: str\n",
        "    #conversation_id: str  # Unique identifier for the conversation session\n",
        "    #last_response: Optional[str]  # Stores the last response from the system\n",
        "    #human_assistance_flag: bool  # Indicates if human assistance was requested\n",
        "    #timestamp: Optional[datetime]  # Time of the last update/message\n",
        "    #metadata: Optional[dict]  # Additional arbitrary metadata for extended context\n",
        "\n",
        "\n",
        "def stream_graph_updates(user_input: str):\n",
        "    for event in graph.stream({\"messages\": [{\"role\": \"user\", \"content\": user_input}]}):\n",
        "        for value in event.values():\n",
        "            print(\"Assistant:\", value[\"messages\"][-1].content)\n",
        "\n",
        "def chatbot(state: State):\n",
        "    message = llm_with_tools.invoke(state[\"messages\"])\n",
        "    assert len(message.tool_calls) <= 1\n",
        "    return {\"messages\": [message]}\n",
        "\n",
        "\n",
        "\"\"\"\n",
        "interrupt to add human-in-the-loop execution to your chatbot,\n",
        "allowing for human oversight and intervention when needed\n",
        "# Note that because we are generating a ToolMessage for a state update, we\n",
        "# generally require the ID of the corresponding tool call. We can use\n",
        "# LangChain's InjectedToolCallId to signal that this argument should not\n",
        "# be revealed to the model in the tool's schema.\n",
        "\"\"\"\n",
        "@tool\n",
        "def human_assistance(\n",
        "    name: str, birthday: str, tool_call_id: Annotated[str, InjectedToolCallId]\n",
        ") -> str:\n",
        "    \"\"\"Request assistance from a human.\"\"\"\n",
        "    human_response = interrupt(\n",
        "        {\n",
        "            \"question\": \"Is this correct?\",\n",
        "            \"name\": name,\n",
        "            \"birthday\": birthday,\n",
        "        },\n",
        "    )\n",
        "    # If the information is correct, update the state as-is.\n",
        "    if human_response.get(\"correct\", \"\").lower().startswith(\"y\"):\n",
        "        verified_name = name\n",
        "        verified_birthday = birthday\n",
        "        response = \"Correct\"\n",
        "    # Otherwise, receive information from the human reviewer.\n",
        "    else:\n",
        "        verified_name = human_response.get(\"name\", name)\n",
        "        verified_birthday = human_response.get(\"birthday\", birthday)\n",
        "        response = f\"Made a correction: {human_response}\"\n",
        "\n",
        "\n",
        "    # This time we explicitly update the state with a ToolMessage inside\n",
        "    # the tool.\n",
        "    state_update = {\n",
        "        \"name\": verified_name,\n",
        "        \"birthday\": verified_birthday,\n",
        "        \"messages\": [ToolMessage(response, tool_call_id=tool_call_id)],\n",
        "    }\n",
        "    # We return a Command object in the tool to update our state.\n",
        "    return Command(update=state_update)\n",
        "\n",
        "# Checkpointer in memory datastorage (allows chat history)\n",
        "memory = MemorySaver()\n",
        "\n",
        "search_tool_tavily = TavilySearchResults(max_results=2)\n",
        "tools = [search_tool_tavily,human_assistance]\n",
        "# Modification: tell the LLM which tools it can call\n",
        "llm = ChatOpenAI(model_name=\"gpt-4o\", temperature=0)\n",
        "llm_with_tools = llm.bind_tools(tools)\n",
        "\n",
        "tool_node = ToolNode(tools=[search_tool_tavily,human_assistance])\n",
        "\n",
        "graph_builder = StateGraph(State)\n",
        "graph_builder.add_node(\"chatbot\", chatbot)\n",
        "graph_builder.add_node(\"tools\", tool_node)\n",
        "# The `tools_condition` function returns \"tools\" if the chatbot asks to use a tool, and \"END\" if\n",
        "# it is fine directly responding. This conditional routing defines the main agent loop.\n",
        "graph_builder.add_conditional_edges(\n",
        "    \"chatbot\",\n",
        "    tools_condition,\n",
        ")\n",
        "# Any time a tool is called, we return to the chatbot to decide the next step\n",
        "graph_builder.add_edge(\"tools\", \"chatbot\")\n",
        "graph_builder.set_entry_point(\"chatbot\")\n",
        "graph = graph_builder.compile(checkpointer=memory)\n",
        "\n",
        "\n",
        "try:\n",
        "    display(Image(graph.get_graph().draw_mermaid_png()))\n",
        "except Exception:\n",
        "    pass\n"
      ]
    },
    {
      "cell_type": "markdown",
      "metadata": {
        "id": "7vhG266XppyR"
      },
      "source": [
        "## while true loop for user input"
      ]
    },
    {
      "cell_type": "markdown",
      "metadata": {
        "id": "Qyp_jYGtpzf4"
      },
      "source": [
        "## Execute Graph stream with thread id for memory"
      ]
    },
    {
      "cell_type": "code",
      "execution_count": null,
      "metadata": {
        "colab": {
          "base_uri": "https://localhost:8080/"
        },
        "collapsed": true,
        "id": "h8EZVw30pwi7",
        "outputId": "19fba296-9ae8-4058-fd36-57b4ef1947e4"
      },
      "outputs": [
        {
          "name": "stdout",
          "output_type": "stream",
          "text": [
            "================================\u001b[1m Human Message \u001b[0m=================================\n",
            "\n",
            "Hi there! My name is Will.\n",
            "==================================\u001b[1m Ai Message \u001b[0m==================================\n",
            "\n",
            "Hello Will! How can I assist you today?\n",
            "================================\u001b[1m Human Message \u001b[0m=================================\n",
            "\n",
            "Remember my name?\n",
            "==================================\u001b[1m Ai Message \u001b[0m==================================\n",
            "\n",
            "Yes, your name is Will. How can I assist you today?\n"
          ]
        },
        {
          "data": {
            "text/plain": [
              "StateSnapshot(values={'messages': [HumanMessage(content='Hi there! My name is Will.', additional_kwargs={}, response_metadata={}, id='8e8e7f12-b980-4040-9bac-6832aef5a2b1'), AIMessage(content='Hello Will! How can I assist you today?', additional_kwargs={'refusal': None}, response_metadata={'token_usage': {'completion_tokens': 12, 'prompt_tokens': 87, 'total_tokens': 99, 'completion_tokens_details': {'accepted_prediction_tokens': 0, 'audio_tokens': 0, 'reasoning_tokens': 0, 'rejected_prediction_tokens': 0}, 'prompt_tokens_details': {'audio_tokens': 0, 'cached_tokens': 0}}, 'model_name': 'gpt-4o-2024-08-06', 'system_fingerprint': 'fp_898ac29719', 'id': 'chatcmpl-BJ1r6idzLh04ChYeHuTynTkpmmdtu', 'finish_reason': 'stop', 'logprobs': None}, id='run-683cd781-8575-46b6-ba61-1f55b67fe667-0', usage_metadata={'input_tokens': 87, 'output_tokens': 12, 'total_tokens': 99, 'input_token_details': {'audio': 0, 'cache_read': 0}, 'output_token_details': {'audio': 0, 'reasoning': 0}}), HumanMessage(content='Remember my name?', additional_kwargs={}, response_metadata={}, id='e8c7a2fe-aa07-4e3f-9e07-29f6bd3501df'), AIMessage(content='Yes, your name is Will. How can I assist you today?', additional_kwargs={'refusal': None}, response_metadata={'token_usage': {'completion_tokens': 16, 'prompt_tokens': 109, 'total_tokens': 125, 'completion_tokens_details': {'accepted_prediction_tokens': 0, 'audio_tokens': 0, 'reasoning_tokens': 0, 'rejected_prediction_tokens': 0}, 'prompt_tokens_details': {'audio_tokens': 0, 'cached_tokens': 0}}, 'model_name': 'gpt-4o-2024-08-06', 'system_fingerprint': 'fp_898ac29719', 'id': 'chatcmpl-BJ1r62VGQ4dUVQ1W1Ohc3vUsHDAgr', 'finish_reason': 'stop', 'logprobs': None}, id='run-78b1c0e6-b5e9-4028-bf3e-4b966b39ea60-0', usage_metadata={'input_tokens': 109, 'output_tokens': 16, 'total_tokens': 125, 'input_token_details': {'audio': 0, 'cache_read': 0}, 'output_token_details': {'audio': 0, 'reasoning': 0}})]}, next=(), config={'configurable': {'thread_id': '1', 'checkpoint_ns': '', 'checkpoint_id': '1f012459-d7fa-6591-8004-b0aab8ca1b24'}}, metadata={'source': 'loop', 'writes': {'chatbot': {'messages': [AIMessage(content='Yes, your name is Will. How can I assist you today?', additional_kwargs={'refusal': None}, response_metadata={'token_usage': {'completion_tokens': 16, 'prompt_tokens': 109, 'total_tokens': 125, 'completion_tokens_details': {'accepted_prediction_tokens': 0, 'audio_tokens': 0, 'reasoning_tokens': 0, 'rejected_prediction_tokens': 0}, 'prompt_tokens_details': {'audio_tokens': 0, 'cached_tokens': 0}}, 'model_name': 'gpt-4o-2024-08-06', 'system_fingerprint': 'fp_898ac29719', 'id': 'chatcmpl-BJ1r62VGQ4dUVQ1W1Ohc3vUsHDAgr', 'finish_reason': 'stop', 'logprobs': None}, id='run-78b1c0e6-b5e9-4028-bf3e-4b966b39ea60-0', usage_metadata={'input_tokens': 109, 'output_tokens': 16, 'total_tokens': 125, 'input_token_details': {'audio': 0, 'cache_read': 0}, 'output_token_details': {'audio': 0, 'reasoning': 0}})]}}, 'step': 4, 'parents': {}, 'thread_id': '1'}, created_at='2025-04-05T17:44:25.291697+00:00', parent_config={'configurable': {'thread_id': '1', 'checkpoint_ns': '', 'checkpoint_id': '1f012459-d04f-6e4f-8003-c8020ed30472'}}, tasks=())"
            ]
          },
          "execution_count": 10,
          "metadata": {},
          "output_type": "execute_result"
        }
      ],
      "source": [
        "config = {\"configurable\": {\"thread_id\": \"1\"}}\n",
        "\n",
        "user_input = \"Hi there! My name is Will.\"\n",
        "\n",
        "# The config is the **second positional argument** to stream() or invoke()!\n",
        "events = graph.stream(\n",
        "    {\"messages\": [{\"role\": \"user\", \"content\": user_input}]},\n",
        "    config,\n",
        "    stream_mode=\"values\",\n",
        ")\n",
        "for event in events:\n",
        "    event[\"messages\"][-1].pretty_print()\n",
        "\n",
        "user_input = \"Remember my name?\"\n",
        "\n",
        "# The config is the **second positional argument** to stream() or invoke()!\n",
        "events = graph.stream(\n",
        "    {\"messages\": [{\"role\": \"user\", \"content\": user_input}]},\n",
        "    config,\n",
        "    stream_mode=\"values\",\n",
        ")\n",
        "for event in events:\n",
        "    event[\"messages\"][-1].pretty_print()\n",
        "\n",
        "# By now, we have made a few checkpoints across two different threads. But what goes into a checkpoint? To inspect a graph's state for a given config at any time, call get_state(config).\n",
        "snapshot = graph.get_state(config)\n",
        "snapshot"
      ]
    },
    {
      "cell_type": "markdown",
      "metadata": {
        "id": "71Tn48ICKI98"
      },
      "source": [
        "## Calling for human asistance with Human in the loop interaction"
      ]
    },
    {
      "cell_type": "code",
      "execution_count": null,
      "metadata": {
        "colab": {
          "base_uri": "https://localhost:8080/"
        },
        "id": "YhizscyjH_2X",
        "outputId": "4eb5c20c-b544-4c92-ba87-8ce815864494"
      },
      "outputs": [
        {
          "name": "stdout",
          "output_type": "stream",
          "text": [
            "================================\u001b[1m Human Message \u001b[0m=================================\n",
            "\n",
            "I need some expert guidance for building an AI agent. Could you request assistance for me?\n",
            "==================================\u001b[1m Ai Message \u001b[0m==================================\n",
            "Tool Calls:\n",
            "  human_assistance (call_ORERjt3frMp2jm6P9K7vQJ3t)\n",
            " Call ID: call_ORERjt3frMp2jm6P9K7vQJ3t\n",
            "  Args:\n",
            "    query: I need expert guidance for building an AI agent.\n",
            "==================================\u001b[1m Ai Message \u001b[0m==================================\n",
            "Tool Calls:\n",
            "  human_assistance (call_ORERjt3frMp2jm6P9K7vQJ3t)\n",
            " Call ID: call_ORERjt3frMp2jm6P9K7vQJ3t\n",
            "  Args:\n",
            "    query: I need expert guidance for building an AI agent.\n",
            "=================================\u001b[1m Tool Message \u001b[0m=================================\n",
            "Name: human_assistance\n",
            "\n",
            "We, the experts are here to help! We'd recommend you check out LangGraph to build your agent. It's much more reliable and extensible than simple autonomous agents.\n",
            "==================================\u001b[1m Ai Message \u001b[0m==================================\n",
            "\n",
            "I've reached out for expert guidance, and the recommendation is to check out LangGraph for building your AI agent. It's noted to be more reliable and extensible than simple autonomous agents. If you have any more questions or need further assistance, feel free to ask!\n"
          ]
        }
      ],
      "source": [
        "@tool(\"human_assistance\")\n",
        "def human_assistance(query: str) -> str:\n",
        "    \"\"\"Request assistance from a human.\"\"\"\n",
        "    logging.info(\"Request assistance from a human.\")\n",
        "    human_response = interrupt({\"query\": query})\n",
        "    return human_response[\"data\"]\n",
        "\n",
        "user_input = \"I need some expert guidance for building an AI agent. Could you request assistance for me?\"\n",
        "config = {\"configurable\": {\"thread_id\": \"1\"}}\n",
        "\n",
        "events = graph.stream(\n",
        "    {\"messages\": [{\"role\": \"user\", \"content\": user_input}]},\n",
        "    config,\n",
        "    stream_mode=\"values\",\n",
        ")\n",
        "for event in events:\n",
        "    if \"messages\" in event:\n",
        "        event[\"messages\"][-1].pretty_print()\n",
        "\n",
        "human_response = (\n",
        "    \"We, the experts are here to help! We'd recommend you check out LangGraph to build your agent.\"\n",
        "    \" It's much more reliable and extensible than simple autonomous agents.\"\n",
        ")\n",
        "\n",
        "\"\"\"\n",
        "To resume execution, we pass a Command object containing data expected by the tool.\n",
        "The format of this data can be customized based on our needs. Here, we just need a\n",
        "dict with a key \"data\":\n",
        "\"\"\"\n",
        "human_command = Command(resume={\"data\": human_response})\n",
        "\n",
        "events = graph.stream(human_command, config, stream_mode=\"values\")\n",
        "for event in events:\n",
        "    if \"messages\" in event:\n",
        "        event[\"messages\"][-1].pretty_print()"
      ]
    },
    {
      "cell_type": "markdown",
      "metadata": {
        "id": "srZwBspeRCIG"
      },
      "source": [
        "## Let's prompt our application to look up the \"birthday\" of the LangGraph library.\n",
        "We will direct the chatbot to reach out to the human_assistance tool once it has the required information. Note that setting name and birthday in the arguments for the tool, we force the chatbot to generate proposals for these fields."
      ]
    },
    {
      "cell_type": "code",
      "execution_count": null,
      "metadata": {
        "colab": {
          "base_uri": "https://localhost:8080/"
        },
        "id": "jQvlzTJ2RObq",
        "outputId": "fc16675d-b566-498c-e03b-a9e634ad827c"
      },
      "outputs": [
        {
          "name": "stdout",
          "output_type": "stream",
          "text": [
            "================================\u001b[1m Human Message \u001b[0m=================================\n",
            "\n",
            "Can you look up when LangGraph was released? When you have the answer, use the human_assistance tool for review.\n",
            "==================================\u001b[1m Ai Message \u001b[0m==================================\n",
            "Tool Calls:\n",
            "  tavily_search_results_json (call_ASmBsMMrKxVy7KmZBZHT0X7G)\n",
            " Call ID: call_ASmBsMMrKxVy7KmZBZHT0X7G\n",
            "  Args:\n",
            "    query: LangGraph release date\n",
            "=================================\u001b[1m Tool Message \u001b[0m=================================\n",
            "Name: tavily_search_results_json\n",
            "\n",
            "[{\"title\": \"langgraph - PyPI\", \"url\": \"https://pypi.org/project/langgraph/\", \"content\": \"langgraph · PyPI\\nSkip to main content Switch to mobile version\\n\\nSearch PyPI  Search\\n\\nHelp\\nSponsors\\nLog in\\nRegister\\n\\nMenu\\n\\nHelp\\nSponsors\\nLog in\\nRegister\\n\\nSearch PyPI  Search\\nlanggraph 0.2.70\\npip install langgraph Copy PIP instructions\\nLatest versionReleased: Feb 6, 2025\\nBuilding stateful, multi-actor applications with LLMs\\nNavigation\\n\\nProject description\\nRelease history\\nDownload files [...] 0.2.20 Sep 13, 2024\\n\\n0.2.19 Sep 6, 2024\\n\\n0.2.18 Sep 6, 2024\\n\\n0.2.17 Sep 5, 2024\\n\\n0.2.16 Sep 1, 2024\\n\\n0.2.15 Aug 30, 2024\\n\\n0.2.14 Aug 24, 2024\\n\\n0.2.13 Aug 23, 2024\\n\\n0.2.12 Aug 22, 2024\\n\\n0.2.11 Aug 22, 2024\\n\\n0.2.10 Aug 21, 2024\\n\\n0.2.9 Aug 21, 2024\\n\\n0.2.8 Aug 21, 2024\\n\\n0.2.7 Aug 21, 2024\\n\\n0.2.7a0 pre-release Aug 21, 2024\\n\\n0.2.6 Aug 21, 2024\\n\\n0.2.5 Aug 21, 2024\\n\\n0.2.5a0 pre-release Aug 20, 2024\\n\\n0.2.4 Aug 15, 2024\\n\\n0.2.3 Aug 8, 2024\\n\\n0.2.2 Aug 7, 2024\\n\\n0.2.1 Aug 7, 2024\\n\\n0.2.0 Aug 7, 2024 [...] License\\nOSI Approved :: MIT License\\n\\n\\nProgramming Language\\nPython :: 3\\nPython :: 3.9\\nPython :: 3.10\\nPython :: 3.11\\nPython :: 3.12\\n\\n\\n\\nRelease history Release notifications | RSS feed\\nThis version\\n\\n0.2.70 Feb 6, 2025\\n\\n0.2.69 Jan 31, 2025\\n\\n0.2.68 Jan 28, 2025\\n\\n0.2.67 Jan 23, 2025\\n\\n0.2.66 Jan 21, 2025\\n\\n0.2.65 Jan 21, 2025\\n\\n0.2.64 Jan 17, 2025\\n\\n0.2.63 Jan 16, 2025\\n\\n0.2.62 Jan 10, 2025\\n\\n0.2.61 Jan 5, 2025\\n\\n0.2.60 Dec 18, 2024\\n\\n0.2.59 Dec 11, 2024\\n\\n0.2.58 Dec 10, 2024\\n\\n0.2.57 Dec 10, 2024\", \"score\": 0.81875163}, {\"title\": \"February 2025 - LangChain - Changelog\", \"url\": \"https://changelog.langchain.com/?date=2025-02-01\", \"content\": \"February 26, 2025 · LangGraph. LangGraph Supervisor: A Library for Hierarchical Multi-Agent Systems. We've released LangGraph Supervisor, a new\", \"score\": 0.78334314}]\n",
            "==================================\u001b[1m Ai Message \u001b[0m==================================\n",
            "Tool Calls:\n",
            "  human_assistance (call_Zdw2KsgKh1vyegu6ENTnWIwh)\n",
            " Call ID: call_Zdw2KsgKh1vyegu6ENTnWIwh\n",
            "  Args:\n",
            "    name: LangGraph\n",
            "    birthday: January 17, 2024\n",
            "==================================\u001b[1m Ai Message \u001b[0m==================================\n",
            "Tool Calls:\n",
            "  human_assistance (call_Zdw2KsgKh1vyegu6ENTnWIwh)\n",
            " Call ID: call_Zdw2KsgKh1vyegu6ENTnWIwh\n",
            "  Args:\n",
            "    name: LangGraph\n",
            "    birthday: January 17, 2024\n",
            "=================================\u001b[1m Tool Message \u001b[0m=================================\n",
            "Name: human_assistance\n",
            "\n",
            "Made a correction: {'name': 'LangGraph', 'birthday': 'Jan 17, 2024'}\n",
            "==================================\u001b[1m Ai Message \u001b[0m==================================\n",
            "\n",
            "LangGraph was released on January 17, 2024.\n"
          ]
        },
        {
          "data": {
            "text/plain": [
              "{'name': 'LangGraph (library)', 'birthday': 'Jan 17, 2024'}"
            ]
          },
          "execution_count": 44,
          "metadata": {},
          "output_type": "execute_result"
        }
      ],
      "source": [
        "user_input = (\n",
        "    \"Can you look up when LangGraph was released? \"\n",
        "    \"When you have the answer, use the human_assistance tool for review.\"\n",
        ")\n",
        "config = {\"configurable\": {\"thread_id\": \"1\"}}\n",
        "\n",
        "events = graph.stream(\n",
        "    {\"messages\": [{\"role\": \"user\", \"content\": user_input}]},\n",
        "    config,\n",
        "    stream_mode=\"values\",\n",
        ")\n",
        "for event in events:\n",
        "    if \"messages\" in event:\n",
        "        event[\"messages\"][-1].pretty_print()\n",
        "\n",
        "\"\"\"\n",
        "We've hit the interrupt in the human_assistance tool again. In this case,\n",
        "the chatbot failed to identify the correct date, so we can supply it:\n",
        "\"\"\"\n",
        "human_command = Command(\n",
        "    resume={\n",
        "        \"name\": \"LangGraph\",\n",
        "        \"birthday\": \"Jan 17, 2024\",\n",
        "    },\n",
        ")\n",
        "\n",
        "events = graph.stream(human_command, config, stream_mode=\"values\")\n",
        "for event in events:\n",
        "    if \"messages\" in event:\n",
        "        event[\"messages\"][-1].pretty_print()\n",
        "\n",
        "\n",
        "# LangGraph gives a high degree of control over the application state.\n",
        "# For instance, at any point (including when interrupted), we can manually override a key using graph.update_state:\n",
        "graph.update_state(config, {\"name\": \"LangGraph (library)\"})\n",
        "\n",
        "snapshot = graph.get_state(config)\n",
        "\n",
        "{k: v for k, v in snapshot.values.items() if k in (\"name\", \"birthday\")}\n",
        "\n"
      ]
    },
    {
      "cell_type": "markdown",
      "metadata": {
        "id": "BkOwaDTy4Kpn"
      },
      "source": [
        "### Time Travel"
      ]
    },
    {
      "cell_type": "code",
      "execution_count": null,
      "metadata": {
        "colab": {
          "base_uri": "https://localhost:8080/"
        },
        "id": "aSySBn5m4N1Q",
        "outputId": "dbf578ef-cee9-4749-e776-ce1b7a570238"
      },
      "outputs": [
        {
          "name": "stdout",
          "output_type": "stream",
          "text": [
            "================================\u001b[1m Human Message \u001b[0m=================================\n",
            "\n",
            "I'm learning LangGraph. Could you do some research on it for me?\n",
            "==================================\u001b[1m Ai Message \u001b[0m==================================\n",
            "Tool Calls:\n",
            "  tavily_search_results_json (call_vzk7JZMGxkY7mqCDev9731Uz)\n",
            " Call ID: call_vzk7JZMGxkY7mqCDev9731Uz\n",
            "  Args:\n",
            "    query: LangGraph programming language\n",
            "=================================\u001b[1m Tool Message \u001b[0m=================================\n",
            "Name: tavily_search_results_json\n",
            "\n",
            "[{\"title\": \"LangGraph: Build Stateful AI Agents in Python\", \"url\": \"https://realpython.com/langgraph-python/\", \"content\": \"Remove ads\\nLangGraph is a versatile Python library designed for stateful, cyclic, and multi-actor Large Language Model (LLM) applications. LangGraph builds upon its parent library, LangChain, and allows you to build sophisticated workflows that are capable of handling the complexities of real-world LLM applications.\\nBy the end of this tutorial, you’ll understand that: [...] These FAQs are related to the most important concepts you’ve covered in this tutorial. Click the Show/Hide toggle beside each question to reveal the answer.\\nWhat is LangGraph?Show/Hide\\nLangGraph is a Python library that helps you build stateful, cyclic, and multi-actor workflows for Large Language Model (LLM) applications, expanding upon LangChain’s capabilities.\\nHow does LangGraph differ from LangChain?Show/Hide [...] As you might have inferred from the name, LangGraph is all about implementing LLM applications as directed graphs. You can think of a directed graph as a sequence of instructions composed of nodes and edges, that tell you how to complete a task. In LangGraph, nodes represent actions that your graph can take, such as calling a function, and edges tell you which node to go to next.\\nTo understand this better, take a look at this directed graph:\", \"score\": 0.8805613}, {\"title\": \"LangGraph Quickstart - GitHub Pages\", \"url\": \"https://langchain-ai.github.io/langgraph/tutorials/introduction/\", \"content\": \"[](https://langchain-ai.github.io/langgraph/tutorials/introduction/#__codelineno-9-1)Assistant: LangGraph is a library designed to help build stateful multi-agent applications using language models. It provides tools for creating workflows and state machines to coordinate multiple AI agents or language model interactions. LangGraph is built on top of LangChain, leveraging its components while adding graph-based coordination capabilities. It's particularly useful for developing more complex, [...] [](https://langchain-ai.github.io/langgraph/tutorials/introduction/#__codelineno-21-6)   LangGraph is a library designed for building stateful, multi-actor applications with Large Language Models (LLMs). It's particularly useful for creating agent and multi-agent workflows.\\n[](https://langchain-ai.github.io/langgraph/tutorials/introduction/#__codelineno-21-7)\\n[](https://langchain-ai.github.io/langgraph/tutorials/introduction/#__codelineno-21-8)2. Developer: [...] solution ...\\\"}, {\\\"url\\\": \\\"https://github.com/langchain-ai/langgraph\\\", \\\"content\\\": \\\"Overview. LangGraph is a library for building stateful, multi-actor applications with LLMs, used to create agent and multi-agent workflows. Compared to other LLM frameworks, it offers these core benefits: cycles, controllability, and persistence. LangGraph allows you to define flows that involve cycles, essential for most agentic architectures ...\\\"}]\", \"score\": 0.8319231}]\n",
            "==================================\u001b[1m Ai Message \u001b[0m==================================\n",
            "\n",
            "LangGraph is a Python library designed to help build stateful, cyclic, and multi-actor applications using Large Language Models (LLMs). It is an extension of the LangChain library and focuses on creating sophisticated workflows that can handle the complexities of real-world LLM applications. Here are some key points about LangGraph:\n",
            "\n",
            "1. **Purpose**: LangGraph is used to build stateful, multi-agent applications. It provides tools for creating workflows and state machines to coordinate multiple AI agents or language model interactions.\n",
            "\n",
            "2. **Graph-Based Coordination**: The library allows you to implement LLM applications as directed graphs. In these graphs, nodes represent actions (such as calling a function), and edges determine the sequence of actions.\n",
            "\n",
            "3. **Core Benefits**: LangGraph offers cycles, controllability, and persistence, which are essential for most agentic architectures. This makes it particularly useful for developing complex agent and multi-agent workflows.\n",
            "\n",
            "4. **Applications**: It is suitable for creating workflows that involve multiple actors and require stateful interactions, making it ideal for complex AI applications.\n",
            "\n",
            "For more detailed information, you can explore the [LangGraph Quickstart on GitHub Pages](https://langchain-ai.github.io/langgraph/tutorials/introduction/) or the [LangGraph overview on GitHub](https://github.com/langchain-ai/langgraph).\n"
          ]
        }
      ],
      "source": [
        "from typing import Annotated\n",
        "\n",
        "from langchain_openai import ChatOpenAI\n",
        "from langchain_community.tools.tavily_search import TavilySearchResults\n",
        "from langchain_core.messages import BaseMessage\n",
        "from typing_extensions import TypedDict\n",
        "\n",
        "from langgraph.checkpoint.memory import MemorySaver\n",
        "from langgraph.graph import StateGraph, START, END\n",
        "from langgraph.graph.message import add_messages\n",
        "from langgraph.prebuilt import ToolNode, tools_condition\n",
        "\n",
        "\n",
        "\n",
        "class State(TypedDict):\n",
        "    messages: Annotated[list, add_messages]\n",
        "\n",
        "\n",
        "graph_builder = StateGraph(State)\n",
        "\n",
        "\n",
        "tool = TavilySearchResults(max_results=2)\n",
        "tools = [tool]\n",
        "#llm = ChatAnthropic(model=\"claude-3-5-sonnet-20240620\")\n",
        "llm = ChatOpenAI(model_name=\"gpt-4o\", temperature=0)\n",
        "llm_with_tools = llm.bind_tools(tools)\n",
        "\n",
        "\n",
        "def chatbot(state: State):\n",
        "    return {\"messages\": [llm_with_tools.invoke(state[\"messages\"])]}\n",
        "\n",
        "\n",
        "graph_builder.add_node(\"chatbot\", chatbot)\n",
        "\n",
        "tool_node = ToolNode(tools=[tool])\n",
        "graph_builder.add_node(\"tools\", tool_node)\n",
        "\n",
        "graph_builder.add_conditional_edges(\n",
        "    \"chatbot\",\n",
        "    tools_condition,\n",
        ")\n",
        "graph_builder.add_edge(\"tools\", \"chatbot\")\n",
        "graph_builder.add_edge(START, \"chatbot\")\n",
        "\n",
        "memory = MemorySaver()\n",
        "graph = graph_builder.compile(checkpointer=memory)\n",
        "\n",
        "\n",
        "# Let's have our graph take a couple steps. Every step will be checkpointed in its state history:\n",
        "\n",
        "config = {\"configurable\": {\"thread_id\": \"1\"}}\n",
        "events = graph.stream(\n",
        "    {\n",
        "        \"messages\": [\n",
        "            {\n",
        "                \"role\": \"user\",\n",
        "                \"content\": (\n",
        "                    \"I'm learning LangGraph. \"\n",
        "                    \"Could you do some research on it for me?\"\n",
        "                ),\n",
        "            },\n",
        "        ],\n",
        "    },\n",
        "    config,\n",
        "    stream_mode=\"values\",\n",
        ")\n",
        "for event in events:\n",
        "    if \"messages\" in event:\n",
        "        event[\"messages\"][-1].pretty_print()\n",
        "\n",
        "events = graph.stream(\n",
        "    {\n",
        "        \"messages\": [\n",
        "            {\n",
        "                \"role\": \"user\",\n",
        "                \"content\": (\n",
        "                    \"Ya that's helpful. Maybe I'll \"\n",
        "                    \"build an autonomous agent with it!\"\n",
        "                ),\n",
        "            },\n",
        "        ],\n",
        "    },\n",
        "    config,\n",
        "    stream_mode=\"values\",\n",
        ")\n",
        "for event in events:\n",
        "    if \"messages\" in event:\n",
        "        event[\"messages\"][-1].pretty_print()\n",
        "\n"
      ]
    },
    {
      "cell_type": "markdown",
      "metadata": {
        "id": "rBVbQkK26US7"
      },
      "source": [
        "### Traverse and reply specific state"
      ]
    },
    {
      "cell_type": "code",
      "execution_count": null,
      "metadata": {
        "colab": {
          "base_uri": "https://localhost:8080/"
        },
        "id": "0Yt46Nko5XUH",
        "outputId": "73ac8116-990b-4978-82b7-da82a5e5f94d"
      },
      "outputs": [
        {
          "name": "stdout",
          "output_type": "stream",
          "text": [
            "Num Messages:  4 Next:  ()\n",
            "--------------------------------------------------------------------------------\n",
            "Num Messages:  3 Next:  ('chatbot',)\n",
            "--------------------------------------------------------------------------------\n",
            "Num Messages:  2 Next:  ('tools',)\n",
            "--------------------------------------------------------------------------------\n",
            "Num Messages:  8 Next:  ()\n",
            "--------------------------------------------------------------------------------\n",
            "Num Messages:  7 Next:  ('chatbot',)\n",
            "--------------------------------------------------------------------------------\n",
            "Num Messages:  6 Next:  ('__start__',)\n",
            "--------------------------------------------------------------------------------\n",
            "Num Messages:  6 Next:  ()\n",
            "--------------------------------------------------------------------------------\n",
            "Num Messages:  5 Next:  ('chatbot',)\n",
            "--------------------------------------------------------------------------------\n",
            "Num Messages:  4 Next:  ('__start__',)\n",
            "--------------------------------------------------------------------------------\n",
            "Num Messages:  4 Next:  ()\n",
            "--------------------------------------------------------------------------------\n",
            "Num Messages:  3 Next:  ('chatbot',)\n",
            "--------------------------------------------------------------------------------\n",
            "Num Messages:  2 Next:  ('tools',)\n",
            "--------------------------------------------------------------------------------\n",
            "Num Messages:  1 Next:  ('chatbot',)\n",
            "--------------------------------------------------------------------------------\n",
            "Num Messages:  0 Next:  ('__start__',)\n",
            "--------------------------------------------------------------------------------\n",
            "('tools',)\n",
            "{'configurable': {'thread_id': '1', 'checkpoint_ns': '', 'checkpoint_id': '1f0128d8-21e6-6859-8001-ac26c232df00'}}\n"
          ]
        }
      ],
      "source": [
        "\n",
        "to_replay = None\n",
        "for state in graph.get_state_history(config):\n",
        "    print(\"Num Messages: \", len(state.values[\"messages\"]), \"Next: \", state.next)\n",
        "    print(\"-\" * 80)\n",
        "    if len(state.values[\"messages\"]) == 2:\n",
        "        # We are somewhat arbitrarily selecting a specific state based on the number of chat messages in the state.\n",
        "        to_replay = state\n",
        "\n",
        "print(to_replay.next)\n",
        "print(to_replay.config)"
      ]
    },
    {
      "cell_type": "code",
      "execution_count": null,
      "metadata": {
        "colab": {
          "base_uri": "https://localhost:8080/"
        },
        "id": "iWAvBaeW6xjs",
        "outputId": "86444739-8353-42e2-81ed-90321e527a9f"
      },
      "outputs": [
        {
          "name": "stdout",
          "output_type": "stream",
          "text": [
            "==================================\u001b[1m Ai Message \u001b[0m==================================\n",
            "Tool Calls:\n",
            "  tavily_search_results_json (call_vzk7JZMGxkY7mqCDev9731Uz)\n",
            " Call ID: call_vzk7JZMGxkY7mqCDev9731Uz\n",
            "  Args:\n",
            "    query: LangGraph programming language\n",
            "=================================\u001b[1m Tool Message \u001b[0m=================================\n",
            "Name: tavily_search_results_json\n",
            "\n",
            "[{\"title\": \"LangGraph: Build Stateful AI Agents in Python\", \"url\": \"https://realpython.com/langgraph-python/\", \"content\": \"Remove ads\\nLangGraph is a versatile Python library designed for stateful, cyclic, and multi-actor Large Language Model (LLM) applications. LangGraph builds upon its parent library, LangChain, and allows you to build sophisticated workflows that are capable of handling the complexities of real-world LLM applications.\\nBy the end of this tutorial, you’ll understand that: [...] These FAQs are related to the most important concepts you’ve covered in this tutorial. Click the Show/Hide toggle beside each question to reveal the answer.\\nWhat is LangGraph?Show/Hide\\nLangGraph is a Python library that helps you build stateful, cyclic, and multi-actor workflows for Large Language Model (LLM) applications, expanding upon LangChain’s capabilities.\\nHow does LangGraph differ from LangChain?Show/Hide [...] As you might have inferred from the name, LangGraph is all about implementing LLM applications as directed graphs. You can think of a directed graph as a sequence of instructions composed of nodes and edges, that tell you how to complete a task. In LangGraph, nodes represent actions that your graph can take, such as calling a function, and edges tell you which node to go to next.\\nTo understand this better, take a look at this directed graph:\", \"score\": 0.8805613}, {\"title\": \"LangGraph Quickstart - GitHub Pages\", \"url\": \"https://langchain-ai.github.io/langgraph/tutorials/introduction/\", \"content\": \"[](https://langchain-ai.github.io/langgraph/tutorials/introduction/#__codelineno-9-1)Assistant: LangGraph is a library designed to help build stateful multi-agent applications using language models. It provides tools for creating workflows and state machines to coordinate multiple AI agents or language model interactions. LangGraph is built on top of LangChain, leveraging its components while adding graph-based coordination capabilities. It's particularly useful for developing more complex, [...] [](https://langchain-ai.github.io/langgraph/tutorials/introduction/#__codelineno-21-6)   LangGraph is a library designed for building stateful, multi-actor applications with Large Language Models (LLMs). It's particularly useful for creating agent and multi-agent workflows.\\n[](https://langchain-ai.github.io/langgraph/tutorials/introduction/#__codelineno-21-7)\\n[](https://langchain-ai.github.io/langgraph/tutorials/introduction/#__codelineno-21-8)2. Developer: [...] solution ...\\\"}, {\\\"url\\\": \\\"https://github.com/langchain-ai/langgraph\\\", \\\"content\\\": \\\"Overview. LangGraph is a library for building stateful, multi-actor applications with LLMs, used to create agent and multi-agent workflows. Compared to other LLM frameworks, it offers these core benefits: cycles, controllability, and persistence. LangGraph allows you to define flows that involve cycles, essential for most agentic architectures ...\\\"}]\", \"score\": 0.8319231}]\n",
            "==================================\u001b[1m Ai Message \u001b[0m==================================\n",
            "\n",
            "LangGraph is a Python library designed to help build stateful, cyclic, and multi-actor applications using Large Language Models (LLMs). It is built on top of LangChain, expanding its capabilities by allowing the creation of sophisticated workflows that can handle the complexities of real-world LLM applications.\n",
            "\n",
            "### Key Features of LangGraph:\n",
            "- **Stateful Workflows**: LangGraph enables the creation of workflows that maintain state across interactions, which is crucial for applications that require memory and context.\n",
            "- **Cyclic and Multi-Actor Applications**: It supports the development of applications involving multiple agents or actors, allowing for complex interactions and coordination.\n",
            "- **Graph-Based Coordination**: LangGraph uses directed graphs to represent workflows. Nodes in the graph represent actions (like function calls), and edges dictate the flow from one node to the next.\n",
            "- **Cycles, Controllability, and Persistence**: These are core benefits of LangGraph, making it suitable for agentic architectures that require iterative processes and state management.\n",
            "\n",
            "LangGraph is particularly useful for developing complex agent and multi-agent workflows, leveraging the components of LangChain while adding graph-based coordination capabilities. For more detailed information, you can explore resources like the [LangGraph Quickstart on GitHub Pages](https://langchain-ai.github.io/langgraph/tutorials/introduction/) or the [LangGraph overview on GitHub](https://github.com/langchain-ai/langgraph).\n"
          ]
        }
      ],
      "source": [
        "# The `checkpoint_id` in the `to_replay.config` corresponds to a state we've persisted to our checkpointer.\n",
        "for event in graph.stream(None, to_replay.config, stream_mode=\"values\"):\n",
        "    if \"messages\" in event:\n",
        "        event[\"messages\"][-1].pretty_print()"
      ]
    }
  ],
  "metadata": {
    "application/vnd.databricks.v1+notebook": {
      "computePreferences": null,
      "dashboards": [],
      "environmentMetadata": {
        "base_environment": "",
        "environment_version": "2"
      },
      "inputWidgetPreferences": null,
      "language": "python",
      "notebookMetadata": {
        "pythonIndentUnit": 4
      },
      "notebookName": "Agents",
      "widgets": {}
    },
    "colab": {
      "collapsed_sections": [
        "qhgMPHl8-rsC",
        "Qyp_jYGtpzf4",
        "71Tn48ICKI98"
      ],
      "provenance": []
    },
    "kernelspec": {
      "display_name": "Python 3",
      "name": "python3"
    },
    "language_info": {
      "name": "python"
    }
  },
  "nbformat": 4,
  "nbformat_minor": 0
}
